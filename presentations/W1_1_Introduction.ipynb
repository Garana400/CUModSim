{
 "cells": [
  {
   "cell_type": "markdown",
   "metadata": {
    "slideshow": {
     "slide_type": "slide"
    }
   },
   "source": [
    "# An Introduction to Modeling and Simulation\n",
    "##     <center>*Mohammed A. El-Beltagy* <center>"
   ]
  },
  {
   "cell_type": "markdown",
   "metadata": {
    "slideshow": {
     "slide_type": "slide"
    }
   },
   "source": [
    "## <center>What is Reality?</center>\n",
    "- How do we know that our understanding of the a world is true?\n",
    "- What is our world view?\n",
    "- How do we see things?"
   ]
  },
  {
   "cell_type": "markdown",
   "metadata": {
    "slideshow": {
     "slide_type": "slide"
    }
   },
   "source": [
    "# What are models?\n",
    "- Do they have to be programs?\n",
    "- Do they require mathematics? \n",
    "- Can we build models without computers?\n"
   ]
  },
  {
   "cell_type": "markdown",
   "metadata": {
    "slideshow": {
     "slide_type": "slide"
    }
   },
   "source": [
    "# How does the sun rise...an ancient model \n",
    "<img src=\"images/nutGoddess.jpg\">"
   ]
  },
  {
   "cell_type": "markdown",
   "metadata": {
    "slideshow": {
     "slide_type": "slide"
    }
   },
   "source": [
    "# A brief History of Cairo University and its model (yet unrealised)\n",
    "- Yaqub Artin\n",
    "- Jurji Zaydan\n",
    "- Princes Fatma \n",
    "- Ahmed Lutfi el-Sayed Pasha's liberal vision"
   ]
  },
  {
   "cell_type": "markdown",
   "metadata": {
    "slideshow": {
     "slide_type": "subslide"
    }
   },
   "source": [
    "# More on Cairo University \n",
    "\n",
    "<img src=\"images/culogo.jpg\" style=\"float: left; width: 30%; margin-right: 1%; margin-bottom: 0.5em;\"> <img src=\"images/hermes.jpg\"  height=\"300\" width=\"200\" style=\"float: left; width: 30%; margin-right: 1%; margin-bottom: 0.5em;\" >"
   ]
  },
  {
   "cell_type": "markdown",
   "metadata": {
    "slideshow": {
     "slide_type": "slide"
    }
   },
   "source": [
    "# Course Structure\n",
    "- A programming perlude \n",
    "- Determinstic models: Falling Apples and Bouncing balls\n",
    "- Adventures in probablity \n",
    "- Dancing with Chaos \n",
    "- A Dash of Complexity Science"
   ]
  },
  {
   "cell_type": "markdown",
   "metadata": {
    "slideshow": {
     "slide_type": "slide"
    }
   },
   "source": [
    "# Communications and resources\n",
    "- On GitHub: https://github.com/mbeltagy/CUModSim\n",
    "- Google Group: https://groups.google.com/forum/#!forum/cumodsim"
   ]
  }
 ],
 "metadata": {
  "celltoolbar": "Slideshow",
  "kernelspec": {
   "display_name": "Julia 0.5.1-pre",
   "language": "julia",
   "name": "julia-0.5"
  },
  "language_info": {
   "file_extension": ".jl",
   "mimetype": "application/julia",
   "name": "julia",
   "version": "0.5.2"
  }
 },
 "nbformat": 4,
 "nbformat_minor": 1
}
