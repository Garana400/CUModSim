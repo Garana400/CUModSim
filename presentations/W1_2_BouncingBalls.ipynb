{
 "cells": [
  {
   "cell_type": "markdown",
   "metadata": {
    "slideshow": {
     "slide_type": "slide"
    }
   },
   "source": [
    "# A Bouncing Ball and Julia\n",
    "##     <center>*Mohammed A. El-Beltagy* <center>"
   ]
  },
  {
   "cell_type": "markdown",
   "metadata": {
    "slideshow": {
     "slide_type": "slide"
    }
   },
   "source": [
    "## <center>Why start with bouncing ball?</center>\n",
    "- Modeling and Simulation covers anything from colliding galaxies to the spread\n",
    "    to disease  to subatomic interactions. \n",
    "- We start with a simple model to demonstrates key elements of modeling ... and\n",
    "    simulation\n",
    "- The model will also allow up to write the simplest Julia program \n",
    "\n",
    "<img src=\"images/balbounc.GIF\" style=\"float: left; width: 30%; margin-right: 1%; margin-bottom: 0.5em;\"> "
   ]
  },
  {
   "cell_type": "markdown",
   "metadata": {
    "slideshow": {
     "slide_type": "slide"
    }
   },
   "source": [
    "# The physics of bouncing balls\n",
    "A ball is dropped from a hight of $h_0=1$. At each bounce in losses some energy. \n",
    "\n",
    "We know the that it being acted by gravity and release from rest. \n",
    "\n",
    "We drive the equations in notebook now! "
   ]
  },
  {
   "cell_type": "markdown",
   "metadata": {
    "slideshow": {
     "slide_type": "slide"
    }
   },
   "source": [
    "# Why Julia?\n"
   ]
  },
  {
   "cell_type": "code",
   "execution_count": 1,
   "metadata": {
    "collapsed": false
   },
   "outputs": [],
   "source": [
    "# Some basic Julia\n",
    "h₀=1\n",
    "g=9.81\n",
    "x(t)=h₀-0.5*g*t^2;"
   ]
  },
  {
   "cell_type": "code",
   "execution_count": 2,
   "metadata": {
    "collapsed": false
   },
   "outputs": [
    {
     "data": {
      "text/plain": [
       "1.0"
      ]
     },
     "execution_count": 2,
     "metadata": {},
     "output_type": "execute_result"
    }
   ],
   "source": [
    "# Lets test this\n",
    "x(0)"
   ]
  },
  {
   "cell_type": "code",
   "execution_count": 3,
   "metadata": {
    "collapsed": false
   },
   "outputs": [
    {
     "data": {
      "text/plain": [
       "-3.9050000000000002"
      ]
     },
     "execution_count": 3,
     "metadata": {},
     "output_type": "execute_result"
    }
   ],
   "source": [
    "x(1)"
   ]
  },
  {
   "cell_type": "code",
   "execution_count": 2,
   "metadata": {
    "collapsed": false
   },
   "outputs": [
    {
     "data": {
      "text/plain": [
       "x (generic function with 2 methods)"
      ]
     },
     "execution_count": 2,
     "metadata": {},
     "output_type": "execute_result"
    }
   ],
   "source": [
    "# The ball went through the ground!!!! Wrong!\n",
    "# We fix this\n",
    "function x(t,k)\n",
    "    δ=0.01\n",
    "    for tᵦ=0:δ:t\n",
    "        h=h₀-0.5*g*t^2\n",
    "        if h<0\n",
    "            v=-k(g*t)\n",
    "        end\n",
    "    end\n",
    "end\n",
    "# This is half finished code....try to see if you can fix it!"
   ]
  },
  {
   "cell_type": "markdown",
   "metadata": {
    "slideshow": {
     "slide_type": "slide"
    }
   },
   "source": [
    "# Questions do we ask of our model\n",
    "- Where is the ball at a given point in time?\n",
    "- How much time will ball keep on bouncing?\n",
    "- What insights are we after?"
   ]
  },
  {
   "cell_type": "markdown",
   "metadata": {
    "slideshow": {
     "slide_type": "slide"
    }
   },
   "source": [
    "# Communications and resources\n",
    "- On GitHub: https://github.com/mbeltagy/CUModSim\n",
    "- Google Group: https://groups.google.com/forum/#!forum/cumodsim"
   ]
  }
 ],
 "metadata": {
  "celltoolbar": "Slideshow",
  "kernelspec": {
   "display_name": "Julia 0.5.1-pre",
   "language": "julia",
   "name": "julia-0.5"
  },
  "language_info": {
   "file_extension": ".jl",
   "mimetype": "application/julia",
   "name": "julia",
   "version": "0.5.2"
  }
 },
 "nbformat": 4,
 "nbformat_minor": 1
}
