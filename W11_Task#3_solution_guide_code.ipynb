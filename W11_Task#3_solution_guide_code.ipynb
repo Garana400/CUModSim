{
 "cells": [
  {
   "cell_type": "code",
   "execution_count": 1,
   "metadata": {
    "collapsed": false
   },
   "outputs": [
    {
     "data": {
      "text/plain": [
       "customer_queue_gen (generic function with 1 method)"
      ]
     },
     "execution_count": 1,
     "metadata": {},
     "output_type": "execute_result"
    }
   ],
   "source": [
    "using Distributions\n",
    "type QueueCustomer\n",
    "    time::Float64  #When do I arrrive\n",
    "    service_time::Float64 #How much time it take to process my request\n",
    "    wait_time::Float64 #How much time I spent waiting in the queue\n",
    "    ID::Int\n",
    "end\n",
    "function customer_queue_gen(numCustomers,λ,a,b)\n",
    "    #a,b are the parameters of the uniform distribution (min, max)\n",
    "    t=0.0\n",
    "    interarrival_dist=Exponential(λ)\n",
    "    proccessing_dist=Uniform(a,b) #considering that the service time follows a uniform distribution\n",
    "    function f(i)  #Our closure that will be used in the returned generator\n",
    "        next_custmer_at=rand(interarrival_dist)\n",
    "        t+=next_custmer_at\n",
    "        service_time=rand(proccessing_dist)\n",
    "        qc=QueueCustomer(t,service_time,Inf,i)\n",
    "    end\n",
    "    (f(i) for i=1:numCustomers) #The returned generator\n",
    "end"
   ]
  },
  {
   "cell_type": "code",
   "execution_count": 2,
   "metadata": {
    "collapsed": false
   },
   "outputs": [
    {
     "data": {
      "text/plain": [
       "service_processing_c_stations_gen (generic function with 1 method)"
      ]
     },
     "execution_count": 2,
     "metadata": {},
     "output_type": "execute_result"
    }
   ],
   "source": [
    "function service_processing_c_stations_gen(queue_gen::Base.Generator,c)\n",
    "    t_next_customer_at=zeros(c)\n",
    "    wait_time_list=Float64[]\n",
    "    service_time_list=Float64[]\n",
    "    arrival_time_list=Float64[]\n",
    "    for qc in queue_gen\n",
    "        current_station=indmin(t_next_customer_at)\n",
    "        t_next_customer_at[current_station]=max(t_next_customer_at[current_station],qc.time)\n",
    "        wait_time=t_next_customer_at[current_station]-qc.time\n",
    "        push!(wait_time_list,wait_time)\n",
    "        push!(service_time_list,qc.service_time)\n",
    "        push!(arrival_time_list,qc.time)\n",
    "        t_next_customer_at[current_station]+=qc.service_time\n",
    "    end\n",
    "    wait_time_list, service_time_list,arrival_time_list\n",
    "end"
   ]
  },
  {
   "cell_type": "code",
   "execution_count": 4,
   "metadata": {
    "collapsed": false
   },
   "outputs": [
    {
     "name": "stdout",
     "output_type": "stream",
     "text": [
      "max waiting time:44.91895520710386\n",
      "max service time:7.999992262934496\n",
      "max arrival time:2.333042254089105e6\n",
      "Arrival time of the last customer:2.333042254089105e6Service time of the last customer :6.395240138200441Waiting time of the last customer:11.591007404960692\n",
      "end time:2.333060240336648e6\n",
      "Sum of all Service Times: 5.498796314693465e6\n",
      "utilization: 2.356902843580249\n"
     ]
    }
   ],
   "source": [
    "#calling the function witn λ = 2.33, service rate follows a uniform distribution with a=3 and b=8 and there's 3 servers\n",
    "que_gn=customer_queue_gen(1000000,2.33,3,8) \n",
    "wait,serve,arriv=service_processing_c_stations_gen(que_gn,3)\n",
    "lastArrival= arriv[end]\n",
    "lastService = serve[end]\n",
    "lastWaiting = wait[end]\n",
    "sumServices = sum(serve)\n",
    "endtime = lastArrival+lastService +lastWaiting\n",
    "utilization= sumServices/endtime\n",
    "\n",
    "println(\"max waiting time:\",maximum(wait))\n",
    "println(\"max service time:\",maximum(serve))\n",
    "println(\"max arrival time:\",maximum(arriv))\n",
    "println(\"Arrival time of the last customer:\",lastArrival,\"Service time of the last customer :\",lastService ,\"Waiting time of the last customer:\",lastWaiting)\n",
    "println(\"end time:\", endtime)\n",
    "println(\"Sum of all Service Times: \",sumServices)\n",
    "println(\"utilization: \",utilization)\n"
   ]
  },
  {
   "cell_type": "code",
   "execution_count": null,
   "metadata": {
    "collapsed": true
   },
   "outputs": [],
   "source": []
  }
 ],
 "metadata": {
  "kernelspec": {
   "display_name": "Julia 0.5.0",
   "language": "julia",
   "name": "julia-0.5"
  },
  "language_info": {
   "file_extension": ".jl",
   "mimetype": "application/julia",
   "name": "julia",
   "version": "0.5.0"
  }
 },
 "nbformat": 4,
 "nbformat_minor": 1
}
