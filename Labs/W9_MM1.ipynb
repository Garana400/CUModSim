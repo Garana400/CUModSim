{
 "cells": [
  {
   "cell_type": "code",
   "execution_count": 1,
   "metadata": {
    "collapsed": true
   },
   "outputs": [],
   "source": [
    "using Distributions\n",
    "using PyPlot "
   ]
  },
  {
   "cell_type": "markdown",
   "metadata": {},
   "source": [
    "## Questions\n",
    "1. Compute the average service time from the queues you made. Is the result logical ?\n",
    "\n",
    "2. Compute the average waiting time from the queues you made.\n",
    "\n",
    "3. Draw the number of customers VS the waiting time.\n",
    "\n",
    "4. When will the system close -In other words what is the completion time of the last customer-?\n",
    "\n",
    "5. What is the server utilization?\n",
    "\n",
    "6. Reverse the lamda and μ values and answer question 2 again. What is your comment?"
   ]
  },
  {
   "cell_type": "code",
   "execution_count": 2,
   "metadata": {
    "collapsed": true
   },
   "outputs": [],
   "source": [
    "type customer\n",
    "    arrivalTime::Float64\n",
    "    serviceTime::Float64\n",
    "    waitTime::Float64\n",
    "    ID::Int\n",
    "end"
   ]
  },
  {
   "cell_type": "code",
   "execution_count": 3,
   "metadata": {
    "collapsed": false
   },
   "outputs": [
    {
     "data": {
      "text/plain": [
       "mm1 (generic function with 1 method)"
      ]
     },
     "execution_count": 3,
     "metadata": {},
     "output_type": "execute_result"
    }
   ],
   "source": [
    "function mm1(λ,μ,customers)\n",
    "    interArrival_dist=Exponential(1/λ)\n",
    "    processing_dist= Exponential(1/μ)\n",
    "    arrivalQueue= Array(customer,0)\n",
    "    serviceQueue= Array(customer,0)\n",
    "    t=0\n",
    "    for i=1:customers \n",
    "        arrive=rand(interArrival_dist)\n",
    "        service=rand(processing_dist)   \n",
    "        t+=arrive\n",
    "        cust=customer(t,service,Inf,i) \n",
    "        push!(arrivalQueue, cust)\n",
    "    \n",
    "    end\n",
    "    t= arrivalQueue[1].arrivalTime\n",
    "    while !isempty(arrivalQueue)\n",
    "        nextCust= shift!(arrivalQueue)\n",
    "        t= max(t, nextCust.arrivalTime)\n",
    "        nextCust.waitTime = t- nextCust.arrivalTime\n",
    "        t+=nextCust.serviceTime\n",
    "        push!(serviceQueue, nextCust)\n",
    "    \n",
    "    end\n",
    "\n",
    "   serviceQueue\n",
    "end"
   ]
  },
  {
   "cell_type": "code",
   "execution_count": 4,
   "metadata": {
    "collapsed": true
   },
   "outputs": [],
   "source": [
    "λ=2\n",
    "μ=3\n",
    "serviceQ= mm1(λ,μ,10000);"
   ]
  },
  {
   "cell_type": "code",
   "execution_count": 5,
   "metadata": {
    "collapsed": false
   },
   "outputs": [
    {
     "data": {
      "text/plain": [
       "0.3346038336982349"
      ]
     },
     "execution_count": 5,
     "metadata": {},
     "output_type": "execute_result"
    }
   ],
   "source": [
    "#1. Compute the average service time from the queues you made. Is the result logic ?\n",
    "serviceT = zeros(Float64,length(serviceQ))\n",
    "for i = 1:  length(serviceQ)\n",
    "    serviceT[i] = serviceQ[i].serviceTime\n",
    "end\n",
    "mean(serviceT)"
   ]
  },
  {
   "cell_type": "code",
   "execution_count": 6,
   "metadata": {
    "collapsed": false
   },
   "outputs": [
    {
     "data": {
      "text/plain": [
       "0.6865420566042699"
      ]
     },
     "execution_count": 6,
     "metadata": {},
     "output_type": "execute_result"
    }
   ],
   "source": [
    "#2. Compute the average waiting time from the queues you made.\n",
    "\n",
    "waitTimes=Array(Float64,0)\n",
    "for c in serviceQ\n",
    "    push!(waitTimes ,c.waitTime)\n",
    "end\n",
    "mean(waitTimes)"
   ]
  },
  {
   "cell_type": "code",
   "execution_count": 7,
   "metadata": {
    "collapsed": false
   },
   "outputs": [
    {
     "data": {
      "text/plain": [
       "0.6666666666666667"
      ]
     },
     "execution_count": 7,
     "metadata": {},
     "output_type": "execute_result"
    }
   ],
   "source": [
    "# Mathematically \n",
    "#avgWaitingTime = 1/(μ − λ) − 1/μ\n",
    "avgWaitingTime = (1/(3-2)) - (1/3)"
   ]
  },
  {
   "cell_type": "code",
   "execution_count": 8,
   "metadata": {
    "collapsed": false
   },
   "outputs": [
    {
     "data": {
      "image/png": "[encoded data removed]",
      "text/plain": [
       "PyPlot.Figure(PyObject <matplotlib.figure.Figure object at 0x00000000190DE320>)"
      ]
     },
     "metadata": {},
     "output_type": "display_data"
    }
   ],
   "source": [
    "#3. Draw the number of customers VS the waiting time.\n",
    "ax= axes()\n",
    "ax[:hist](waitTimes,12);\n",
    "ylabel(\"Number of customers\"); xlabel(\"Wait Time\");"
   ]
  },
  {
   "cell_type": "code",
   "execution_count": 9,
   "metadata": {
    "collapsed": false
   },
   "outputs": [
    {
     "data": {
      "text/plain": [
       "5035.7028258615965"
      ]
     },
     "execution_count": 9,
     "metadata": {},
     "output_type": "execute_result"
    }
   ],
   "source": [
    "# 4. When will the system close-in other words what is the completion time of the last customer-?\n",
    "\n",
    "closingTime=serviceQ[end].arrivalTime + serviceQ[end].serviceTime + serviceQ[end].waitTime"
   ]
  },
  {
   "cell_type": "code",
   "execution_count": 10,
   "metadata": {
    "collapsed": false
   },
   "outputs": [
    {
     "data": {
      "text/plain": [
       "0.6644630258557502"
      ]
     },
     "execution_count": 10,
     "metadata": {},
     "output_type": "execute_result"
    }
   ],
   "source": [
    "# 5. What is the server utilization?\n",
    "# Utilization is the percentage of time that the server was busy from the total time\n",
    "# represents the average proportion of time which the server is occupied\n",
    "serverUtilization = sum(serviceT)/closingTime "
   ]
  },
  {
   "cell_type": "code",
   "execution_count": 11,
   "metadata": {
    "collapsed": false
   },
   "outputs": [
    {
     "data": {
      "text/plain": [
       "0.6666666666666666"
      ]
     },
     "execution_count": 11,
     "metadata": {},
     "output_type": "execute_result"
    }
   ],
   "source": [
    "#Mathematically it equals = λ/c.μ, where c is the number of servers\n",
    "#Ρ = λ/ (c. μ) \n",
    "Ρ = 2/(1*3)"
   ]
  },
  {
   "cell_type": "code",
   "execution_count": 12,
   "metadata": {
    "collapsed": true
   },
   "outputs": [],
   "source": [
    "# 6. Reverse the λ and μ values and answer question 2 and 5 again. What is your comment?\n",
    "λ2=3\n",
    "μ2=2\n",
    "serviceQ= mm1(λ2,μ2,10000);"
   ]
  },
  {
   "cell_type": "code",
   "execution_count": 13,
   "metadata": {
    "collapsed": false
   },
   "outputs": [
    {
     "data": {
      "text/plain": [
       "844.5098988260779"
      ]
     },
     "execution_count": 13,
     "metadata": {},
     "output_type": "execute_result"
    }
   ],
   "source": [
    "waitTimes=Array(Float64,0)\n",
    "for c in serviceQ\n",
    "    push!(waitTimes ,c.waitTime)\n",
    "end\n",
    "mean(waitTimes)\n",
    "\n",
    "#A system block will happpen given that λ > μ (2)"
   ]
  },
  {
   "cell_type": "code",
   "execution_count": 14,
   "metadata": {
    "collapsed": false
   },
   "outputs": [
    {
     "data": {
      "image/png": "[encoded data removed]",
      "text/plain": [
       "PyPlot.Figure(PyObject <matplotlib.figure.Figure object at 0x000000001BA90FD0>)"
      ]
     },
     "metadata": {},
     "output_type": "display_data"
    }
   ],
   "source": [
    "ax= axes()\n",
    "ax[:hist](waitTimes,12);\n",
    "ylabel(\"Number of customers\"); xlabel(\"Wait Time\");"
   ]
  },
  {
   "cell_type": "code",
   "execution_count": null,
   "metadata": {
    "collapsed": true
   },
   "outputs": [],
   "source": []
  }
 ],
 "metadata": {
  "kernelspec": {
   "display_name": "Julia 0.5.0",
   "language": "julia",
   "name": "julia-0.5"
  },
  "language_info": {
   "file_extension": ".jl",
   "mimetype": "application/julia",
   "name": "julia",
   "version": "0.5.0"
  }
 },
 "nbformat": 4,
 "nbformat_minor": 0
}
